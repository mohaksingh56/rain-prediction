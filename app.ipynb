{
 "cells": [
  {
   "cell_type": "code",
   "execution_count": 1,
   "id": "b5af528e",
   "metadata": {
    "scrolled": true
   },
   "outputs": [
    {
     "name": "stdout",
     "output_type": "stream",
     "text": [
      " * Serving Flask app '__main__'\n",
      " * Debug mode: off\n"
     ]
    },
    {
     "name": "stderr",
     "output_type": "stream",
     "text": [
      "WARNING: This is a development server. Do not use it in a production deployment. Use a production WSGI server instead.\n",
      " * Running on http://127.0.0.1:5001\n",
      "Press CTRL+C to quit\n",
      "127.0.0.1 - - [16/Jun/2024 13:35:24] \"GET / HTTP/1.1\" 200 -\n",
      "127.0.0.1 - - [16/Jun/2024 13:35:26] \"GET /favicon.ico HTTP/1.1\" 404 -\n",
      "127.0.0.1 - - [16/Jun/2024 13:38:28] \"POST / HTTP/1.1\" 405 -\n",
      "127.0.0.1 - - [16/Jun/2024 13:40:25] \"POST / HTTP/1.1\" 405 -\n",
      "127.0.0.1 - - [16/Jun/2024 13:41:09] \"POST / HTTP/1.1\" 405 -\n",
      "127.0.0.1 - - [16/Jun/2024 13:41:42] \"POST / HTTP/1.1\" 405 -\n",
      "127.0.0.1 - - [16/Jun/2024 13:41:46] \"GET / HTTP/1.1\" 200 -\n"
     ]
    }
   ],
   "source": [
    "from flask import Flask, request, jsonify\n",
    "import pickle\n",
    "import pandas as pd\n",
    "\n",
    "# Initialize Flask app\n",
    "app = Flask(__name__)\n",
    "\n",
    "# Load the trained model\n",
    "with open('rain_predictor.pkl', 'rb') as model_file:\n",
    "    model = pickle.load(model_file)\n",
    "\n",
    "@app.route('/')\n",
    "def home():\n",
    "    return \"Rain Prediction API\"\n",
    "\n",
    "@app.route('/predict', methods=['POST'])\n",
    "def predict():\n",
    "\n",
    "    data = request.get_json()\n",
    "    \n",
    "    if 'temperature' not in data or 'humidity' not in data or 'pressure' not in data:\n",
    "        return jsonify({'error': 'Invalid input data'}), 400\n",
    "\n",
    "    \n",
    "    input_data = pd.DataFrame([data])\n",
    "    prediction = model.predict(input_data)\n",
    "\n",
    "    return jsonify({'rain': int(prediction[0])})\n",
    "\n",
    "if __name__ == '__main__':\n",
    "    app.run(debug=False, port = 5001)\n"
   ]
  },
  {
   "cell_type": "code",
   "execution_count": 3,
   "id": "aed77d67",
   "metadata": {},
   "outputs": [
    {
     "name": "stdout",
     "output_type": "stream",
     "text": [
      " * Serving Flask app '__main__'\n",
      " * Debug mode: off\n"
     ]
    },
    {
     "name": "stderr",
     "output_type": "stream",
     "text": [
      "WARNING: This is a development server. Do not use it in a production deployment. Use a production WSGI server instead.\n",
      " * Running on http://127.0.0.1:5001\n",
      "Press CTRL+C to quit\n",
      "127.0.0.1 - - [16/Jun/2024 13:45:20] \"POST /predict HTTP/1.1\" 200 -\n",
      "127.0.0.1 - - [16/Jun/2024 13:46:26] \"GET /predict/%7B%20%22temperature%22:%2022,%20%22humidity%22:%2080,%20%22pressure%22:%201010%20%7D HTTP/1.1\" 404 -\n",
      "127.0.0.1 - - [16/Jun/2024 13:46:29] \"GET /predict/%7B%20%22temperature%22:%2022,%20%22humidity%22:%2080,%20%22pressure%22:%201010%20%7D HTTP/1.1\" 404 -\n"
     ]
    }
   ],
   "source": [
    "from flask import Flask, request, jsonify\n",
    "import pickle\n",
    "import pandas as pd\n",
    "\n",
    "# Initialize Flask app\n",
    "app = Flask(__name__)\n",
    "\n",
    "# Load the trained model\n",
    "with open('rain_predictor.pkl', 'rb') as model_file:\n",
    "    model = pickle.load(model_file)\n",
    "\n",
    "@app.route('/')\n",
    "def home():\n",
    "    return \"Rain Prediction API\"\n",
    "\n",
    "@app.route('/predict', methods=['POST'])\n",
    "def predict():\n",
    "    data = request.get_json()\n",
    "\n",
    "    # Check if the required fields are in the input data\n",
    "    if 'temperature' not in data or 'humidity' not in data or 'pressure' not in data:\n",
    "        return jsonify({'error': 'Invalid input data'}), 400\n",
    "\n",
    "    # Convert input data to DataFrame\n",
    "    input_data = pd.DataFrame([data])\n",
    "    prediction = model.predict(input_data)\n",
    "\n",
    "    # Return the prediction result\n",
    "    return jsonify({'rain': int(prediction[0])})\n",
    "\n",
    "if __name__ == '__main__':\n",
    "    app.run(debug=False, port=5001)\n"
   ]
  },
  {
   "cell_type": "code",
   "execution_count": null,
   "id": "1ce4b4cd",
   "metadata": {},
   "outputs": [],
   "source": []
  },
  {
   "cell_type": "code",
   "execution_count": null,
   "id": "0f5ba086",
   "metadata": {},
   "outputs": [],
   "source": []
  }
 ],
 "metadata": {
  "kernelspec": {
   "display_name": "Python 3 (ipykernel)",
   "language": "python",
   "name": "python3"
  },
  "language_info": {
   "codemirror_mode": {
    "name": "ipython",
    "version": 3
   },
   "file_extension": ".py",
   "mimetype": "text/x-python",
   "name": "python",
   "nbconvert_exporter": "python",
   "pygments_lexer": "ipython3",
   "version": "3.11.5"
  }
 },
 "nbformat": 4,
 "nbformat_minor": 5
}
